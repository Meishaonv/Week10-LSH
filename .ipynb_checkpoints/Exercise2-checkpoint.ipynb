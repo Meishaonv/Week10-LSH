{
 "cells": [
  {
   "cell_type": "code",
   "execution_count": 35,
   "metadata": {},
   "outputs": [
    {
     "name": "stdout",
     "output_type": "stream",
     "text": [
      "Approximate neighbours with Jaccard similarity > 0.9:  ['cat number 1']\n"
     ]
    }
   ],
   "source": [
    "import numpy\n",
    "from PIL import Image\n",
    "from datasketch import MinHash, MinHashLSH\n",
    "\n",
    "def get_hash(img_path):\n",
    "\n",
    "    # Loads the image and converts it to grayscale\n",
    "    img = Image.open(img_path).convert('LA')\n",
    "    # Resizes the image to 9x8 pixels\n",
    "    img_resized = img.resize((9,8), Image.ANTIALIAS)\n",
    "    \n",
    "    numpy_array = numpy.array(img_resized)\n",
    "    \n",
    "    min_hash = MinHash()\n",
    "    \n",
    "    # Add the values to minHash\n",
    "    for array in numpy_array:\n",
    "        min_hash.update(array)\n",
    "        \n",
    "    return min_hash\n",
    "\n",
    "# Get the hash of 2 similar images\n",
    "cat1 = get_hash('cat1.png') # Normal kitty\n",
    "cat2 = get_hash('cat2.png') # Kitty with a pink nose\n",
    "\n",
    "# Create LSH index with a similarity of 0.9\n",
    "lsh = MinHashLSH(threshold=0.9)\n",
    "# Add the two cat hashes to it\n",
    "lsh.insert(\"Cat number 1\", cat1)\n",
    "lsh.insert(\"Cat number 2\", cat2)\n",
    "\n",
    "# Find out which one of them has similarity > 0.9 with cat number 1\n",
    "result = lsh.query(cat1)\n",
    "                   \n",
    "print \"Approximate neighbours with Jaccard similarity > 0.9: \", result"
   ]
  }
 ],
 "metadata": {
  "kernelspec": {
   "display_name": "Python 2",
   "language": "python",
   "name": "python2"
  },
  "language_info": {
   "codemirror_mode": {
    "name": "ipython",
    "version": 2
   },
   "file_extension": ".py",
   "mimetype": "text/x-python",
   "name": "python",
   "nbconvert_exporter": "python",
   "pygments_lexer": "ipython2",
   "version": "2.7.13"
  }
 },
 "nbformat": 4,
 "nbformat_minor": 2
}
